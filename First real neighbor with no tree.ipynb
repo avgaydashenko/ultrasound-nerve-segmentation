{
 "cells": [
  {
   "cell_type": "code",
   "execution_count": 3,
   "metadata": {
    "collapsed": true
   },
   "outputs": [],
   "source": [
    "# imports and constants\n",
    "\n",
    "import numpy as np # importing numpy for work with matrices\n",
    "import csv # importing csv to work with train_masks.csv\n",
    "from scipy.spatial import KDTree # importing KDTree for fast neighbor searching\n",
    "from time import gmtime, strftime # importing some stuff from time to check the speed for algorithm\n",
    "\n",
    "TEST = \"input/new_test_data.npz\""
   ]
  },
  {
   "cell_type": "code",
   "execution_count": 31,
   "metadata": {
    "collapsed": false
   },
   "outputs": [
    {
     "name": "stdout",
     "output_type": "stream",
     "text": [
      "100 5635\n"
     ]
    }
   ],
   "source": [
    "test_names = !ls input/new_test\n",
    "test_names = np.array(test_names)[:100]\n",
    "train_names = !ls input/new_train\n",
    "train_names = [name for name in train_names if \"mask\" not in name]\n",
    "\n",
    "print(len(test_names), len(train_names))"
   ]
  },
  {
   "cell_type": "code",
   "execution_count": 33,
   "metadata": {
    "collapsed": false
   },
   "outputs": [
    {
     "name": "stdout",
     "output_type": "stream",
     "text": [
      "2016-07-27 13:01:33\n",
      "2016-07-27 13:01:52\n"
     ]
    }
   ],
   "source": [
    "print(strftime(\"%Y-%m-%d %H:%M:%S\", gmtime())) # don't forget to add 3 hours\n",
    "\n",
    "with np.load(\"input/new_train_data.npz\", mmap_mode='r') as data:\n",
    "    train_images = np.array([data[image_name].flatten() for image_name in train_names]).astype(int)\n",
    "\n",
    "with np.load(TEST, mmap_mode='r') as data:\n",
    "    test_images = np.array([data[image_name].flatten() for image_name in test_names]).astype(int)    \n",
    "        \n",
    "print(strftime(\"%Y-%m-%d %H:%M:%S\", gmtime())) # don't forget to add 3 hours"
   ]
  },
  {
   "cell_type": "code",
   "execution_count": 7,
   "metadata": {
    "collapsed": false
   },
   "outputs": [
    {
     "data": {
      "text/plain": [
       "(5508, 15225)"
      ]
     },
     "execution_count": 7,
     "metadata": {},
     "output_type": "execute_result"
    }
   ],
   "source": [
    "train_images.shape"
   ]
  },
  {
   "cell_type": "code",
   "execution_count": 1,
   "metadata": {
    "collapsed": true
   },
   "outputs": [],
   "source": [
    "def dist(x, y):\n",
    "    return np.sqrt(((x - y) ** 2).sum())"
   ]
  },
  {
   "cell_type": "code",
   "execution_count": 42,
   "metadata": {
    "collapsed": false
   },
   "outputs": [
    {
     "name": "stdout",
     "output_type": "stream",
     "text": [
      "2016-07-27 13:12:23\n",
      "2016-07-27 13:13:41\n"
     ]
    }
   ],
   "source": [
    "print(strftime(\"%Y-%m-%d %H:%M:%S\", gmtime())) # don't forget to add 3 hours\n",
    "\n",
    "distances = np.array([])\n",
    "\n",
    "for image in test_images:\n",
    "    distance = np.array([])\n",
    "    for i in range(len(train_images)):\n",
    "        d = dist(image, train_images[i])\n",
    "        if len(distance) < 10:\n",
    "            distance = np.append(distance, d)\n",
    "            name = np.append(name, train_names[i])\n",
    "        elif d < distance.max():\n",
    "            name[distance.argmax()] = train_names[i]\n",
    "            distance[distance.argmax()] = d\n",
    "    np.append(distances, distance)\n",
    "    \n",
    "print(strftime(\"%Y-%m-%d %H:%M:%S\", gmtime())) # don't forget to add 3 hours"
   ]
  },
  {
   "cell_type": "code",
   "execution_count": 26,
   "metadata": {
    "collapsed": false
   },
   "outputs": [
    {
     "name": "stdout",
     "output_type": "stream",
     "text": [
      "[ 6585.08094104  6597.38372387  6594.12450595  5591.8073107   6589.94810298\n",
      "     0.          5126.6893801   5591.69231986  5051.65507532  6597.14172957]\n",
      "['988.tif' '202.tif' '89.tif' '5459.tif' '4960.tif' '168.tif' '5063.tif'\n",
      " '4582.tif' '1733.tif' '5493.tif']\n"
     ]
    }
   ],
   "source": [
    "print(distance)\n",
    "print(name)"
   ]
  }
 ],
 "metadata": {
  "kernelspec": {
   "display_name": "Python 3",
   "language": "python",
   "name": "python3"
  },
  "language_info": {
   "codemirror_mode": {
    "name": "ipython",
    "version": 3
   },
   "file_extension": ".py",
   "mimetype": "text/x-python",
   "name": "python",
   "nbconvert_exporter": "python",
   "pygments_lexer": "ipython3",
   "version": "3.5.1"
  }
 },
 "nbformat": 4,
 "nbformat_minor": 0
}
