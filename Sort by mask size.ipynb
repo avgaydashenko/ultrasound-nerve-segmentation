{
 "cells": [
  {
   "cell_type": "markdown",
   "metadata": {},
   "source": [
    "This code looks through the folder [train] and saves the file {sorted.csv} with {name}.tif in order by size of white area in {name}_mask.tif\n",
    "\n",
    "format: size, name.tif"
   ]
  },
  {
   "cell_type": "code",
   "execution_count": 16,
   "metadata": {
    "collapsed": true
   },
   "outputs": [],
   "source": [
    "import numpy as np\n",
    "import csv\n",
    "from PIL import Image\n",
    "\n",
    "MASK_AND_TIF_SIZE = len(\"_mask.tif\")"
   ]
  },
  {
   "cell_type": "code",
   "execution_count": 12,
   "metadata": {
    "collapsed": false
   },
   "outputs": [],
   "source": [
    "result = [] # will contain pairs like (white area size, name of file)\n",
    "files = !ls train\n",
    "\n",
    "for filename in files:\n",
    "    if \"mask\" in filename:\n",
    "        result.append((np.array(Image.open('train/' + filename)).sum(), [filename[:-MASK_AND_TIF_SIZE] + \".tif\"]))"
   ]
  },
  {
   "cell_type": "code",
   "execution_count": 13,
   "metadata": {
    "collapsed": false
   },
   "outputs": [],
   "source": [
    "result.sort()"
   ]
  },
  {
   "cell_type": "code",
   "execution_count": 18,
   "metadata": {
    "collapsed": false
   },
   "outputs": [],
   "source": [
    "with open(\"sorted.csv\", \"w\") as file:\n",
    "    writer = csv.writer(file)\n",
    "    writer.writerows(result)"
   ]
  }
 ],
 "metadata": {
  "kernelspec": {
   "display_name": "Python 3",
   "language": "python",
   "name": "python3"
  },
  "language_info": {
   "codemirror_mode": {
    "name": "ipython",
    "version": 3
   },
   "file_extension": ".py",
   "mimetype": "text/x-python",
   "name": "python",
   "nbconvert_exporter": "python",
   "pygments_lexer": "ipython3",
   "version": "3.5.1"
  }
 },
 "nbformat": 4,
 "nbformat_minor": 0
}
