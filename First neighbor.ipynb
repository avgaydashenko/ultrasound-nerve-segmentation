{
 "cells": [
  {
   "cell_type": "code",
   "execution_count": 1,
   "metadata": {
    "collapsed": false
   },
   "outputs": [
    {
     "name": "stdout",
     "output_type": "stream",
     "text": [
      "imports\n"
     ]
    }
   ],
   "source": [
    "import numpy as np # importing numpy for work with matrices\n",
    "import csv # importing csv to work with train_masks.csv\n",
    "from PIL import Image # importing Image to work with *.tif\n",
    "from os import listdir # importing listdir to work with bunch of files\n",
    "from scipy.spatial import KDTree # importing KDTree for fast neigbor searching\n",
    "\n",
    "PIXEL_NUMBER = 15225\n",
    "\n",
    "print(\"imports\")"
   ]
  },
  {
   "cell_type": "code",
   "execution_count": 2,
   "metadata": {
    "collapsed": false
   },
   "outputs": [
    {
     "name": "stdout",
     "output_type": "stream",
     "text": [
      "answers\n"
     ]
    }
   ],
   "source": [
    "answers = {}\n",
    "with open(\"train_masks.csv\") as train_masks:\n",
    "    reader = csv.reader(train_masks)\n",
    "    for row in reader:\n",
    "        # dictionary will contain answer for each file from directory \"train\"\n",
    "        answers[str(row[0]) + \"_\" + str(row[1]) + \".tif\"] = row[2]\n",
    "        \n",
    "print(\"answers\")"
   ]
  },
  {
   "cell_type": "code",
   "execution_count": 14,
   "metadata": {
    "collapsed": false
   },
   "outputs": [
    {
     "name": "stdout",
     "output_type": "stream",
     "text": [
      "train\n"
     ]
    }
   ],
   "source": [
    "train = []\n",
    "train_filenames = []\n",
    "\n",
    "for filename in listdir(\"new_train/\"): # getting names of files from directory \"train\" in str\n",
    "    # we do not need masks of images\n",
    "    # so only keep processing files with \"subject_imageNum.tif\"-names\n",
    "    # not files with \"subject_imageNum_mask.tif\"-names\n",
    "    if \"mask\" not in filename: \n",
    "        train_filenames.append(filename)\n",
    "        \n",
    "        # getting image as array in uint8\n",
    "        # from 0 (black) to 255 (white)\n",
    "        image_array = np.array(Image.open('new_train/' + filename))\n",
    "        image_array = image_array.reshape(PIXEL_NUMBER)\n",
    "        image_array = image_array.astype(int)\n",
    "        train.append(list(image_array))\n",
    "        \n",
    "print(\"train\")"
   ]
  },
  {
   "cell_type": "code",
   "execution_count": 15,
   "metadata": {
    "collapsed": false
   },
   "outputs": [
    {
     "name": "stdout",
     "output_type": "stream",
     "text": [
      "test\n"
     ]
    }
   ],
   "source": [
    "test = []\n",
    "test_filenames = !ls new_test\n",
    "\n",
    "for filename in test_filenames: # getting names of files from directory \"test\" in str\n",
    "    # getting image as array in uint8\n",
    "    # from 0 (black) to 255 (white)\n",
    "    image_array = np.array(Image.open('new_test/' + filename))\n",
    "    image_array = image_array.reshape(PIXEL_NUMBER)\n",
    "    image_array = image_array.astype(int)\n",
    "    test.append(list(image_array))\n",
    "    \n",
    "print(\"test\")"
   ]
  },
  {
   "cell_type": "code",
   "execution_count": 16,
   "metadata": {
    "collapsed": false
   },
   "outputs": [
    {
     "name": "stdout",
     "output_type": "stream",
     "text": [
      "tree\n",
      "indeces\n"
     ]
    }
   ],
   "source": [
    "tree = KDTree(train, leafsize=200)\n",
    "print(\"tree\")\n",
    "\n",
    "indeces = tree.query(test, p=1)[1]\n",
    "print(\"indeces\")"
   ]
  },
  {
   "cell_type": "code",
   "execution_count": 17,
   "metadata": {
    "collapsed": false
   },
   "outputs": [
    {
     "name": "stdout",
     "output_type": "stream",
     "text": [
      "result\n"
     ]
    }
   ],
   "source": [
    "result = []\n",
    "for i in np.arange(len(test_filenames)):\n",
    "    row = [int(test_filenames[i][:-4]), answers[train_filenames[indeces[i]]]]\n",
    "    result.append(row)\n",
    "result.sort()\n",
    "\n",
    "print(\"result\")"
   ]
  },
  {
   "cell_type": "code",
   "execution_count": 18,
   "metadata": {
    "collapsed": false
   },
   "outputs": [
    {
     "name": "stdout",
     "output_type": "stream",
     "text": [
      "done\n"
     ]
    }
   ],
   "source": [
    "with open(\"submission.csv\", \"w\") as submission:\n",
    "    writer = csv.writer(submission)\n",
    "    writer.writerow(['img', 'pixels'])\n",
    "    writer.writerows(result)\n",
    "    \n",
    "print(\"done\")"
   ]
  }
 ],
 "metadata": {
  "kernelspec": {
   "display_name": "Python 3",
   "language": "python",
   "name": "python3"
  },
  "language_info": {
   "codemirror_mode": {
    "name": "ipython",
    "version": 3
   },
   "file_extension": ".py",
   "mimetype": "text/x-python",
   "name": "python",
   "nbconvert_exporter": "python",
   "pygments_lexer": "ipython3",
   "version": "3.5.1"
  }
 },
 "nbformat": 4,
 "nbformat_minor": 0
}
