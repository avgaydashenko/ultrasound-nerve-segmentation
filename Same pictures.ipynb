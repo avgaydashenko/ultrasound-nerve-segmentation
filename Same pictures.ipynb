{
 "cells": [
  {
   "cell_type": "code",
   "execution_count": 113,
   "metadata": {
    "collapsed": true
   },
   "outputs": [],
   "source": [
    "import numpy as np\n",
    "import matplotlib.pyplot as plt\n",
    "from time import gmtime, strftime\n",
    "\n",
    "TIF = len(\".tif\")\n",
    "MASK_TIF = \"_mask.tif\""
   ]
  },
  {
   "cell_type": "code",
   "execution_count": 114,
   "metadata": {
    "collapsed": false
   },
   "outputs": [
    {
     "name": "stdout",
     "output_type": "stream",
     "text": [
      "2016-07-26 08:33:12\n",
      "2016-07-26 08:33:32\n"
     ]
    }
   ],
   "source": [
    "print(strftime(\"%Y-%m-%d %H:%M:%S\", gmtime())) # don't forget to add 3 hours\n",
    "\n",
    "Σ = {}\n",
    "\n",
    "with np.load('input/new_train_data.npz', mmap_mode='r') as data:\n",
    "    for name in data:\n",
    "        if 'mask' not in name:\n",
    "            Σ[name] = data[name].sum()\n",
    "\n",
    "print(strftime(\"%Y-%m-%d %H:%M:%S\", gmtime())) # don't forget to add 3 hours"
   ]
  },
  {
   "cell_type": "code",
   "execution_count": 115,
   "metadata": {
    "collapsed": false
   },
   "outputs": [
    {
     "name": "stdout",
     "output_type": "stream",
     "text": [
      "2016-07-26 08:33:32\n"
     ]
    },
    {
     "ename": "KeyboardInterrupt",
     "evalue": "",
     "output_type": "error",
     "traceback": [
      "\u001b[1;31m---------------------------------------------------------------------------\u001b[0m",
      "\u001b[1;31mKeyboardInterrupt\u001b[0m                         Traceback (most recent call last)",
      "\u001b[1;32m<ipython-input-115-10b52bc2a083>\u001b[0m in \u001b[0;36m<module>\u001b[1;34m()\u001b[0m\n\u001b[0;32m      5\u001b[0m \u001b[1;32mfor\u001b[0m \u001b[0mname1\u001b[0m \u001b[1;32min\u001b[0m \u001b[0mΣ\u001b[0m\u001b[1;33m:\u001b[0m\u001b[1;33m\u001b[0m\u001b[0m\n\u001b[0;32m      6\u001b[0m     \u001b[1;32mfor\u001b[0m \u001b[0mname2\u001b[0m \u001b[1;32min\u001b[0m \u001b[0mΣ\u001b[0m\u001b[1;33m:\u001b[0m\u001b[1;33m\u001b[0m\u001b[0m\n\u001b[1;32m----> 7\u001b[1;33m         \u001b[1;32mif\u001b[0m \u001b[0mname1\u001b[0m \u001b[1;33m!=\u001b[0m \u001b[0mname2\u001b[0m \u001b[1;32mand\u001b[0m \u001b[0mΣ\u001b[0m\u001b[1;33m[\u001b[0m\u001b[0mname1\u001b[0m\u001b[1;33m]\u001b[0m \u001b[1;33m==\u001b[0m \u001b[0mΣ\u001b[0m\u001b[1;33m[\u001b[0m\u001b[0mname2\u001b[0m\u001b[1;33m]\u001b[0m\u001b[1;33m:\u001b[0m\u001b[1;33m\u001b[0m\u001b[0m\n\u001b[0m\u001b[0;32m      8\u001b[0m             \u001b[0mcandidates\u001b[0m\u001b[1;33m.\u001b[0m\u001b[0mappend\u001b[0m\u001b[1;33m(\u001b[0m\u001b[1;33m(\u001b[0m\u001b[0mname1\u001b[0m\u001b[1;33m,\u001b[0m \u001b[0mname2\u001b[0m\u001b[1;33m)\u001b[0m\u001b[1;33m)\u001b[0m\u001b[1;33m\u001b[0m\u001b[0m\n\u001b[0;32m      9\u001b[0m \u001b[1;33m\u001b[0m\u001b[0m\n",
      "\u001b[1;31mKeyboardInterrupt\u001b[0m: "
     ]
    }
   ],
   "source": [
    "print(strftime(\"%Y-%m-%d %H:%M:%S\", gmtime())) # don't forget to add 3 hours\n",
    "\n",
    "candidates = []\n",
    "\n",
    "for name1 in Σ:\n",
    "    for name2 in Σ:\n",
    "        if name1 != name2 and Σ[name1] == Σ[name2]:\n",
    "            candidates.append((name1, name2))\n",
    "\n",
    "print(strftime(\"%Y-%m-%d %H:%M:%S\", gmtime())) # don't forget to add 3 hours"
   ]
  },
  {
   "cell_type": "code",
   "execution_count": null,
   "metadata": {
    "collapsed": false
   },
   "outputs": [],
   "source": [
    "len(candidates)"
   ]
  },
  {
   "cell_type": "code",
   "execution_count": null,
   "metadata": {
    "collapsed": false
   },
   "outputs": [],
   "source": [
    "print(strftime(\"%Y-%m-%d %H:%M:%S\", gmtime())) # don't forget to add 3 hours\n",
    "\n",
    "same_mask = []\n",
    "diff_mask = []\n",
    "\n",
    "with np.load('input/train_data.npz', mmap_mode='r') as data:\n",
    "    for pair in candidates:\n",
    "        if (data[pair[0]] == data[pair[1]]).all():\n",
    "            if (data[pair[0][:-TIF] + MASK_TIF] == data[pair[1][:-TIF] + MASK_TIF]).all():\n",
    "                same_mask.append(pair)\n",
    "            else:\n",
    "                diff_mask.append(pair)\n",
    "    \n",
    "print(strftime(\"%Y-%m-%d %H:%M:%S\", gmtime())) # don't forget to add 3 hours"
   ]
  },
  {
   "cell_type": "code",
   "execution_count": null,
   "metadata": {
    "collapsed": false
   },
   "outputs": [],
   "source": [
    "len(same_mask)"
   ]
  },
  {
   "cell_type": "code",
   "execution_count": null,
   "metadata": {
    "collapsed": false
   },
   "outputs": [],
   "source": [
    "len(diff_mask)"
   ]
  },
  {
   "cell_type": "code",
   "execution_count": null,
   "metadata": {
    "collapsed": false
   },
   "outputs": [],
   "source": [
    "same_mask"
   ]
  },
  {
   "cell_type": "code",
   "execution_count": null,
   "metadata": {
    "collapsed": false
   },
   "outputs": [],
   "source": [
    "diff_mask"
   ]
  }
 ],
 "metadata": {
  "kernelspec": {
   "display_name": "Python 3",
   "language": "python",
   "name": "python3"
  },
  "language_info": {
   "codemirror_mode": {
    "name": "ipython",
    "version": 3
   },
   "file_extension": ".py",
   "mimetype": "text/x-python",
   "name": "python",
   "nbconvert_exporter": "python",
   "pygments_lexer": "ipython3",
   "version": "3.5.1"
  }
 },
 "nbformat": 4,
 "nbformat_minor": 0
}
