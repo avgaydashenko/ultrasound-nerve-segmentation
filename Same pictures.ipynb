{
 "cells": [
  {
   "cell_type": "code",
   "execution_count": 1,
   "metadata": {
    "collapsed": true
   },
   "outputs": [],
   "source": [
    "import numpy as np\n",
    "import matplotlib.pyplot as plt\n",
    "from time import gmtime, strftime\n",
    "\n",
    "TIF = len(\".tif\")\n",
    "MASK_TIF = \"_mask.tif\""
   ]
  },
  {
   "cell_type": "code",
   "execution_count": 2,
   "metadata": {
    "collapsed": false
   },
   "outputs": [
    {
     "name": "stdout",
     "output_type": "stream",
     "text": [
      "2016-07-26 08:35:20\n",
      "2016-07-26 08:35:37\n"
     ]
    }
   ],
   "source": [
    "print(strftime(\"%Y-%m-%d %H:%M:%S\", gmtime())) # don't forget to add 3 hours\n",
    "\n",
    "Σ = {}\n",
    "\n",
    "with np.load('input/new_train_data.npz', mmap_mode='r') as data:\n",
    "    for name in data:\n",
    "        if 'mask' not in name:\n",
    "            Σ[name] = data[name].sum()\n",
    "\n",
    "print(strftime(\"%Y-%m-%d %H:%M:%S\", gmtime())) # don't forget to add 3 hours"
   ]
  },
  {
   "cell_type": "code",
   "execution_count": 3,
   "metadata": {
    "collapsed": false
   },
   "outputs": [
    {
     "name": "stdout",
     "output_type": "stream",
     "text": [
      "2016-07-26 08:35:37\n",
      "2016-07-26 08:36:03\n"
     ]
    }
   ],
   "source": [
    "print(strftime(\"%Y-%m-%d %H:%M:%S\", gmtime())) # don't forget to add 3 hours\n",
    "\n",
    "candidates = []\n",
    "\n",
    "for name1 in Σ:\n",
    "    for name2 in Σ:\n",
    "        if name1 != name2 and Σ[name1] == Σ[name2]:\n",
    "            candidates.append((name1, name2))\n",
    "\n",
    "print(strftime(\"%Y-%m-%d %H:%M:%S\", gmtime())) # don't forget to add 3 hours"
   ]
  },
  {
   "cell_type": "code",
   "execution_count": 4,
   "metadata": {
    "collapsed": false
   },
   "outputs": [
    {
     "data": {
      "text/plain": [
       "178"
      ]
     },
     "execution_count": 4,
     "metadata": {},
     "output_type": "execute_result"
    }
   ],
   "source": [
    "len(candidates)"
   ]
  },
  {
   "cell_type": "code",
   "execution_count": 5,
   "metadata": {
    "collapsed": false
   },
   "outputs": [
    {
     "name": "stdout",
     "output_type": "stream",
     "text": [
      "2016-07-26 08:36:03\n",
      "2016-07-26 08:36:06\n"
     ]
    }
   ],
   "source": [
    "print(strftime(\"%Y-%m-%d %H:%M:%S\", gmtime())) # don't forget to add 3 hours\n",
    "\n",
    "same_mask = []\n",
    "diff_mask = []\n",
    "\n",
    "with np.load('input/train_data.npz', mmap_mode='r') as data:\n",
    "    for pair in candidates:\n",
    "        if (data[pair[0]] == data[pair[1]]).all():\n",
    "            if (data[pair[0][:-TIF] + MASK_TIF] == data[pair[1][:-TIF] + MASK_TIF]).all():\n",
    "                same_mask.append(pair)\n",
    "            else:\n",
    "                diff_mask.append(pair)\n",
    "    \n",
    "print(strftime(\"%Y-%m-%d %H:%M:%S\", gmtime())) # don't forget to add 3 hours"
   ]
  },
  {
   "cell_type": "code",
   "execution_count": 6,
   "metadata": {
    "collapsed": false
   },
   "outputs": [
    {
     "data": {
      "text/plain": [
       "20"
      ]
     },
     "execution_count": 6,
     "metadata": {},
     "output_type": "execute_result"
    }
   ],
   "source": [
    "len(same_mask)"
   ]
  },
  {
   "cell_type": "code",
   "execution_count": 7,
   "metadata": {
    "collapsed": false
   },
   "outputs": [
    {
     "data": {
      "text/plain": [
       "84"
      ]
     },
     "execution_count": 7,
     "metadata": {},
     "output_type": "execute_result"
    }
   ],
   "source": [
    "len(diff_mask)"
   ]
  },
  {
   "cell_type": "code",
   "execution_count": 8,
   "metadata": {
    "collapsed": false
   },
   "outputs": [
    {
     "data": {
      "text/plain": [
       "[('31_48.tif', '31_95.tif'),\n",
       " ('21_23.tif', '21_114.tif'),\n",
       " ('18_64.tif', '18_14.tif'),\n",
       " ('27_94.tif', '27_89.tif'),\n",
       " ('17_83.tif', '18_102.tif'),\n",
       " ('31_81.tif', '31_28.tif'),\n",
       " ('31_81.tif', '31_54.tif'),\n",
       " ('18_102.tif', '17_83.tif'),\n",
       " ('31_95.tif', '31_48.tif'),\n",
       " ('18_95.tif', '17_94.tif'),\n",
       " ('27_89.tif', '27_94.tif'),\n",
       " ('21_114.tif', '21_23.tif'),\n",
       " ('17_94.tif', '18_95.tif'),\n",
       " ('18_75.tif', '17_117.tif'),\n",
       " ('17_117.tif', '18_75.tif'),\n",
       " ('31_28.tif', '31_81.tif'),\n",
       " ('31_28.tif', '31_54.tif'),\n",
       " ('18_14.tif', '18_64.tif'),\n",
       " ('31_54.tif', '31_81.tif'),\n",
       " ('31_54.tif', '31_28.tif')]"
      ]
     },
     "execution_count": 8,
     "metadata": {},
     "output_type": "execute_result"
    }
   ],
   "source": [
    "same_mask"
   ]
  },
  {
   "cell_type": "code",
   "execution_count": 9,
   "metadata": {
    "collapsed": false
   },
   "outputs": [
    {
     "data": {
      "text/plain": [
       "[('7_19.tif', '7_71.tif'),\n",
       " ('18_44.tif', '17_7.tif'),\n",
       " ('26_105.tif', '26_5.tif'),\n",
       " ('26_105.tif', '26_86.tif'),\n",
       " ('21_82.tif', '21_77.tif'),\n",
       " ('7_79.tif', '7_70.tif'),\n",
       " ('19_116.tif', '19_95.tif'),\n",
       " ('31_71.tif', '31_48.tif'),\n",
       " ('31_71.tif', '31_95.tif'),\n",
       " ('31_71.tif', '31_52.tif'),\n",
       " ('11_13.tif', '11_42.tif'),\n",
       " ('11_13.tif', '11_92.tif'),\n",
       " ('26_56.tif', '26_108.tif'),\n",
       " ('18_50.tif', '17_57.tif'),\n",
       " ('22_58.tif', '22_19.tif'),\n",
       " ('31_48.tif', '31_71.tif'),\n",
       " ('31_48.tif', '31_52.tif'),\n",
       " ('7_25.tif', '7_106.tif'),\n",
       " ('16_23.tif', '16_101.tif'),\n",
       " ('28_31.tif', '28_33.tif'),\n",
       " ('16_96.tif', '16_22.tif'),\n",
       " ('12_74.tif', '12_21.tif'),\n",
       " ('12_74.tif', '12_12.tif'),\n",
       " ('15_6.tif', '15_59.tif'),\n",
       " ('20_99.tif', '20_58.tif'),\n",
       " ('7_70.tif', '7_79.tif'),\n",
       " ('17_57.tif', '18_50.tif'),\n",
       " ('11_42.tif', '11_13.tif'),\n",
       " ('11_42.tif', '11_92.tif'),\n",
       " ('29_57.tif', '29_72.tif'),\n",
       " ('7_34.tif', '7_96.tif'),\n",
       " ('26_5.tif', '26_105.tif'),\n",
       " ('26_5.tif', '26_86.tif'),\n",
       " ('20_58.tif', '20_99.tif'),\n",
       " ('8_56.tif', '8_70.tif'),\n",
       " ('16_106.tif', '16_58.tif'),\n",
       " ('7_57.tif', '7_83.tif'),\n",
       " ('29_72.tif', '29_57.tif'),\n",
       " ('16_22.tif', '16_96.tif'),\n",
       " ('7_117.tif', '7_98.tif'),\n",
       " ('8_50.tif', '8_74.tif'),\n",
       " ('17_7.tif', '18_44.tif'),\n",
       " ('21_77.tif', '21_82.tif'),\n",
       " ('10_77.tif', '10_100.tif'),\n",
       " ('22_19.tif', '22_58.tif'),\n",
       " ('29_63.tif', '29_27.tif'),\n",
       " ('7_83.tif', '7_57.tif'),\n",
       " ('18_54.tif', '17_35.tif'),\n",
       " ('28_50.tif', '28_67.tif'),\n",
       " ('7_96.tif', '7_34.tif'),\n",
       " ('21_101.tif', '21_64.tif'),\n",
       " ('26_108.tif', '26_56.tif'),\n",
       " ('7_106.tif', '7_25.tif'),\n",
       " ('8_70.tif', '8_56.tif'),\n",
       " ('17_35.tif', '18_54.tif'),\n",
       " ('31_95.tif', '31_71.tif'),\n",
       " ('31_95.tif', '31_52.tif'),\n",
       " ('32_42.tif', '32_46.tif'),\n",
       " ('21_64.tif', '21_101.tif'),\n",
       " ('19_95.tif', '19_116.tif'),\n",
       " ('12_21.tif', '12_74.tif'),\n",
       " ('12_21.tif', '12_12.tif'),\n",
       " ('28_67.tif', '28_50.tif'),\n",
       " ('15_59.tif', '15_6.tif'),\n",
       " ('11_92.tif', '11_13.tif'),\n",
       " ('11_92.tif', '11_42.tif'),\n",
       " ('12_12.tif', '12_74.tif'),\n",
       " ('12_12.tif', '12_21.tif'),\n",
       " ('26_37.tif', '26_115.tif'),\n",
       " ('7_98.tif', '7_117.tif'),\n",
       " ('32_46.tif', '32_42.tif'),\n",
       " ('26_86.tif', '26_105.tif'),\n",
       " ('26_86.tif', '26_5.tif'),\n",
       " ('28_33.tif', '28_31.tif'),\n",
       " ('29_27.tif', '29_63.tif'),\n",
       " ('10_100.tif', '10_77.tif'),\n",
       " ('7_71.tif', '7_19.tif'),\n",
       " ('16_101.tif', '16_23.tif'),\n",
       " ('16_58.tif', '16_106.tif'),\n",
       " ('26_115.tif', '26_37.tif'),\n",
       " ('31_52.tif', '31_71.tif'),\n",
       " ('31_52.tif', '31_48.tif'),\n",
       " ('31_52.tif', '31_95.tif'),\n",
       " ('8_74.tif', '8_50.tif')]"
      ]
     },
     "execution_count": 9,
     "metadata": {},
     "output_type": "execute_result"
    }
   ],
   "source": [
    "diff_mask"
   ]
  }
 ],
 "metadata": {
  "kernelspec": {
   "display_name": "Python 3",
   "language": "python",
   "name": "python3"
  },
  "language_info": {
   "codemirror_mode": {
    "name": "ipython",
    "version": 3
   },
   "file_extension": ".py",
   "mimetype": "text/x-python",
   "name": "python",
   "nbconvert_exporter": "python",
   "pygments_lexer": "ipython3",
   "version": "3.5.1"
  }
 },
 "nbformat": 4,
 "nbformat_minor": 0
}
