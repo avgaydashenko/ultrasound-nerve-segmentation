{
 "cells": [
  {
   "cell_type": "code",
   "execution_count": 18,
   "metadata": {
    "collapsed": true
   },
   "outputs": [],
   "source": [
    "# imports and constants\n",
    "\n",
    "import numpy as np # importing numpy for work with matrices\n",
    "import csv # importing csv to work with train_masks.csv\n",
    "from scipy.spatial import KDTree # importing KDTree for fast neighbor searching\n",
    "from time import gmtime, strftime # importing some stuff from time to check the speed for algorithm\n",
    "\n",
    "TIF = len(\".tif\")\n",
    "EPS = 0.001\n",
    "\n",
    "TRAIN = \"input/new_train_data.npz\"\n",
    "REAL_TRAIN = \"input/train_data.npz\"\n",
    "\n",
    "TEST = \"input/new_test_data.npz\"\n",
    "REAL_TEST = \"input/test_data.npz\"\n",
    "\n",
    "SUBMISSION = \"input/submission.csv\"\n",
    "\n",
    "ANSWERS = \"train_masks.csv\""
   ]
  },
  {
   "cell_type": "code",
   "execution_count": 24,
   "metadata": {
    "collapsed": false
   },
   "outputs": [
    {
     "name": "stdout",
     "output_type": "stream",
     "text": [
      "5508 5635\n"
     ]
    }
   ],
   "source": [
    "test_names = !ls input/new_test\n",
    "train_names = !ls input/new_train\n",
    "\n",
    "train_names = [name for name in train_names if \"mask\" not in name]\n",
    "\n",
    "print(len(test_names), len(train_names))"
   ]
  },
  {
   "cell_type": "code",
   "execution_count": 25,
   "metadata": {
    "collapsed": false
   },
   "outputs": [
    {
     "name": "stdout",
     "output_type": "stream",
     "text": [
      "2016-07-25 14:24:09\n",
      "2016-07-25 14:26:30\n"
     ]
    }
   ],
   "source": [
    "print(strftime(\"%Y-%m-%d %H:%M:%S\", gmtime())) # don't forget to add 3 hours\n",
    "\n",
    "with np.load(TRAIN, mmap_mode='r') as data:\n",
    "    train_images = np.array([data[image_name].flatten() for image_name in train_names]).astype(int)\n",
    "    \n",
    "with np.load(TEST, mmap_mode='r') as data:\n",
    "    test_images = np.array([data[image_name].flatten() for image_name in test_names]).astype(int)    \n",
    "        \n",
    "print(strftime(\"%Y-%m-%d %H:%M:%S\", gmtime())) # don't forget to add 3 hours"
   ]
  },
  {
   "cell_type": "code",
   "execution_count": 26,
   "metadata": {
    "collapsed": false
   },
   "outputs": [
    {
     "name": "stdout",
     "output_type": "stream",
     "text": [
      "2016-07-25 14:26:43\n",
      "2016-07-25 14:34:02\n"
     ]
    }
   ],
   "source": [
    "print(strftime(\"%Y-%m-%d %H:%M:%S\", gmtime())) # don't forget to add 3 hours\n",
    "\n",
    "tree = KDTree(train_images, leafsize=200)\n",
    "        \n",
    "print(strftime(\"%Y-%m-%d %H:%M:%S\", gmtime())) # don't forget to add 3 hours"
   ]
  },
  {
   "cell_type": "code",
   "execution_count": 27,
   "metadata": {
    "collapsed": true
   },
   "outputs": [],
   "source": [
    "answers = {}\n",
    "with open(ANSWERS) as train_masks:\n",
    "    reader = csv.reader(train_masks)\n",
    "    for row in reader:\n",
    "        # dictionary will contain answer for each file from directory \"train\"\n",
    "        answers[str(row[0]) + \"_\" + str(row[1]) + \".tif\"] = row[2]"
   ]
  },
  {
   "cell_type": "code",
   "execution_count": 28,
   "metadata": {
    "collapsed": false
   },
   "outputs": [
    {
     "name": "stdout",
     "output_type": "stream",
     "text": [
      "2016-07-25 14:39:44\n",
      "2016-07-26 01:32:08\n"
     ]
    }
   ],
   "source": [
    "print(strftime(\"%Y-%m-%d %H:%M:%S\", gmtime())) # don't forget to add 3 hours\n",
    "\n",
    "result = []\n",
    "\n",
    "for i in range(len(test_images)):\n",
    "    \n",
    "    dist, ind = tree.query(test_images[i], k=1, p=2)\n",
    "    neighbors_indeces = tree.query_ball_point(test_images[i], dist + EPS)\n",
    "\n",
    "    with np.load(REAL_TRAIN, mmap_mode='r') as data:\n",
    "        real_neighbors = np.array([data[img].flatten() for img in np.array(train_names)[neighbors_indeces]]).astype(int)\n",
    "\n",
    "    with np.load(REAL_TEST, mmap_mode='r') as data:\n",
    "        real_example = data[test_names[i]].flatten()\n",
    "        \n",
    "    real_tree = KDTree(real_neighbors, leafsize=10)\n",
    "    dist, ind = real_tree.query(real_example, k=1, p=2)\n",
    "    real_neighbor_name = train_names[neighbors_indeces[ind]]\n",
    "\n",
    "    result.append((test_names[i][:-TIF], answers[real_neighbor_name]))\n",
    "    \n",
    "result.sort()\n",
    "    \n",
    "print(strftime(\"%Y-%m-%d %H:%M:%S\", gmtime())) # don't forget to add 3 hours"
   ]
  },
  {
   "cell_type": "code",
   "execution_count": 36,
   "metadata": {
    "collapsed": false
   },
   "outputs": [],
   "source": [
    "int_result = []\n",
    "for row in result:\n",
    "    int_result.append((int(row[0]), row[1]))\n",
    "int_result.sort()"
   ]
  },
  {
   "cell_type": "code",
   "execution_count": 37,
   "metadata": {
    "collapsed": true
   },
   "outputs": [],
   "source": [
    "with open(SUBMISSION, \"w\") as submission:\n",
    "    writer = csv.writer(submission)\n",
    "    writer.writerow(['img', 'pixels'])\n",
    "    writer.writerows(int_result)"
   ]
  }
 ],
 "metadata": {
  "kernelspec": {
   "display_name": "Python 3",
   "language": "python",
   "name": "python3"
  },
  "language_info": {
   "codemirror_mode": {
    "name": "ipython",
    "version": 3
   },
   "file_extension": ".py",
   "mimetype": "text/x-python",
   "name": "python",
   "nbconvert_exporter": "python",
   "pygments_lexer": "ipython3",
   "version": "3.5.1"
  }
 },
 "nbformat": 4,
 "nbformat_minor": 0
}
