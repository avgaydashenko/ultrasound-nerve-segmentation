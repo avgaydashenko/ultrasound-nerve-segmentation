{
 "cells": [
  {
   "cell_type": "code",
   "execution_count": 118,
   "metadata": {
    "collapsed": true
   },
   "outputs": [],
   "source": [
    "import numpy as np # importing numpy for work with matrices\n",
    "import csv # importing csv to work with train_masks.csv\n",
    "import random\n",
    "from time import gmtime, strftime # importing some stuff from time to check the speed for algorithm\n",
    "\n",
    "import matplotlib.pyplot as plt\n",
    "\n",
    "%matplotlib inline\n",
    "\n",
    "TIF = \".tif\"\n",
    "MASK_TIF = \"_mask.tif\"\n",
    "\n",
    "V_TEST = 420\n",
    "H_TEST = 580\n",
    "\n",
    "V_FRAME = 212\n",
    "H_FRAME = 256\n",
    "\n",
    "V_DELTA = 13 # == (420 - 212) / 16\n",
    "H_DELTA = 12 # == (580 - 256) / 27\n",
    "\n",
    "patient = np.array([17, 20,  2,  5, 40, 29, 44, 38, 37])"
   ]
  },
  {
   "cell_type": "code",
   "execution_count": 2,
   "metadata": {
    "collapsed": false
   },
   "outputs": [
    {
     "name": "stdout",
     "output_type": "stream",
     "text": [
      "2016-08-08 11:25:30\n",
      "441 326\n",
      "2016-08-08 11:25:30\n"
     ]
    }
   ],
   "source": [
    "print(strftime(\"%Y-%m-%d %H:%M:%S\", gmtime())) # don't forget to add 3 hours\n",
    "\n",
    "test = []\n",
    "train = []\n",
    "\n",
    "with np.load('input/frames.npz', mmap_mode='r') as data:\n",
    "    for name in data:\n",
    "        if 'mask' not in name:\n",
    "            if int(name[:name.find('_')]) in patient:\n",
    "                test.append(name)\n",
    "                \n",
    "with np.load('input/cluster_data.npz', mmap_mode='r') as data:\n",
    "    for name in data:\n",
    "        if 'mask' not in name:\n",
    "            train.append(name)\n",
    "                        \n",
    "print(len(test), len(train))\n",
    "\n",
    "print(strftime(\"%Y-%m-%d %H:%M:%S\", gmtime())) # don't forget to add 3 hours"
   ]
  },
  {
   "cell_type": "code",
   "execution_count": 4,
   "metadata": {
    "collapsed": false
   },
   "outputs": [],
   "source": [
    "test = np.array(test)\n",
    "train = np.array(train)"
   ]
  },
  {
   "cell_type": "code",
   "execution_count": 85,
   "metadata": {
    "collapsed": false
   },
   "outputs": [
    {
     "name": "stdout",
     "output_type": "stream",
     "text": [
      "2016-08-08 13:36:25\n",
      "2016-08-08 13:36:31\n"
     ]
    }
   ],
   "source": [
    "print(strftime(\"%Y-%m-%d %H:%M:%S\", gmtime())) # don't forget to add 3 hours\n",
    "\n",
    "with np.load(\"input/train_data.npz\", mmap_mode='r') as data:\n",
    "    test_im = np.array([data[image_name + TIF] for image_name in test])\n",
    "    \n",
    "with np.load(\"input/cluster_data.npz\", mmap_mode='r') as data:\n",
    "    train_im = np.array([data[image_name] for image_name in train])\n",
    "    \n",
    "print(strftime(\"%Y-%m-%d %H:%M:%S\", gmtime())) # don't forget to add 3 hours"
   ]
  },
  {
   "cell_type": "code",
   "execution_count": 20,
   "metadata": {
    "collapsed": false
   },
   "outputs": [],
   "source": [
    "def distance(x, y):\n",
    "    return np.sqrt(((x.flatten() - y.flatten()) ** 2).sum())\n",
    "\n",
    "def dice_coefficient(x, y):\n",
    "    if not(x.any() or y.any()):\n",
    "        return 1\n",
    "    return 2 * (x * y).sum() / (x.sum() + y.sum())"
   ]
  },
  {
   "cell_type": "code",
   "execution_count": 119,
   "metadata": {
    "collapsed": false
   },
   "outputs": [],
   "source": [
    "dist = np.full(len(test), np.inf)\n",
    "v_coord = np.zeros((len(test), ))\n",
    "h_coord = np.zeros((len(test), ))\n",
    "neighbor = np.array([])\n",
    "for i in range(len(test)):\n",
    "    neighbor = np.append(neighbor, \"str\")"
   ]
  },
  {
   "cell_type": "code",
   "execution_count": 127,
   "metadata": {
    "collapsed": true
   },
   "outputs": [],
   "source": [
    "with open(\"csv/cluster results.csv\", \"w\") as output:\n",
    "    writer = csv.writer(output)\n",
    "    writer.writerow(['img', 'cluster', 'dist', 'v_coord', 'h_coord'])\n",
    "    for i in range(len(test)):\n",
    "        writer.writerow([test[i], neighbor[i], dist[i], v_coord[i], h_coord[i]])"
   ]
  },
  {
   "cell_type": "code",
   "execution_count": 120,
   "metadata": {
    "collapsed": false
   },
   "outputs": [
    {
     "name": "stdout",
     "output_type": "stream",
     "text": [
      "2016-08-08 16:46:02\n",
      "2016-08-09 12:46:53\n"
     ]
    }
   ],
   "source": [
    "print(strftime(\"%Y-%m-%d %H:%M:%S\", gmtime())) # don't forget to add 3 hours\n",
    "\n",
    "for i in range(len(test)):  \n",
    "    \n",
    "    ver = 0\n",
    "    while (ver + V_FRAME < V_TEST):\n",
    "\n",
    "        hor = 0\n",
    "        while (hor + H_FRAME < H_TEST):\n",
    "\n",
    "            im = test_im[i][ver : ver + V_FRAME, hor : hor + H_FRAME]\n",
    "            im = im / im.mean() * 110    \n",
    "\n",
    "            for k in range(len(train)):\n",
    "\n",
    "                d = distance(train_im[k], im)\n",
    "\n",
    "                if d < dist[i]:\n",
    "                    dist[i] = d\n",
    "                    neighbor[i] = train[k]\n",
    "                    v_coord[i] = ver\n",
    "                    h_coord[i] = hor\n",
    "\n",
    "            hor += H_DELTA\n",
    "\n",
    "        ver += V_DELTA\n",
    "\n",
    "print(strftime(\"%Y-%m-%d %H:%M:%S\", gmtime())) # don't forget to add 3 hours"
   ]
  },
  {
   "cell_type": "code",
   "execution_count": 121,
   "metadata": {
    "collapsed": false
   },
   "outputs": [],
   "source": [
    "im1 = []\n",
    "\n",
    "with np.load(\"input/train_data.npz\", mmap_mode='r') as data:\n",
    "    for i in range(len(test)):\n",
    "        im = data[test[i] + MASK_TIF]\n",
    "        im[im == 255] = 1  \n",
    "        im1.append(im)"
   ]
  },
  {
   "cell_type": "code",
   "execution_count": 122,
   "metadata": {
    "collapsed": false
   },
   "outputs": [
    {
     "name": "stderr",
     "output_type": "stream",
     "text": [
      "C:\\Soft\\Anaconda3\\lib\\site-packages\\ipykernel\\__main__.py:6: DeprecationWarning: using a non-integer number instead of an integer will result in an error in the future\n"
     ]
    }
   ],
   "source": [
    "im2 = []\n",
    "        \n",
    "with np.load(\"input/cluster_data.npz\", mmap_mode='r') as data:\n",
    "    for i in range(len(test)):  \n",
    "        im = np.zeros((V_TEST, H_TEST))\n",
    "        im[v_coord[i] : v_coord[i] + V_FRAME, h_coord[i] : h_coord[i] + H_FRAME] += data[neighbor[i] + \"_mask1\"]\n",
    "        assert im.max() == 1\n",
    "        im2.append(im)"
   ]
  },
  {
   "cell_type": "code",
   "execution_count": 123,
   "metadata": {
    "collapsed": false
   },
   "outputs": [],
   "source": [
    "coef = np.full(len(test), np.inf)\n",
    "\n",
    "for i in range(len(test)): \n",
    "    coef[i] = dice_coefficient(im1[i], im2[i])"
   ]
  },
  {
   "cell_type": "code",
   "execution_count": 126,
   "metadata": {
    "collapsed": false
   },
   "outputs": [
    {
     "data": {
      "image/png": "[encoded data removed]",
      "text/plain": [
       "<matplotlib.figure.Figure at 0x6c619eb8>"
      ]
     },
     "metadata": {},
     "output_type": "display_data"
    }
   ],
   "source": [
    "plt.plot(dist, coef, 'bo')\n",
    "plt.show()"
   ]
  },
  {
   "cell_type": "code",
   "execution_count": 125,
   "metadata": {
    "collapsed": false
   },
   "outputs": [
    {
     "data": {
      "text/plain": [
       "(0.70187726766850889, 0.97388995427054137, 0.0096240888084234595)"
      ]
     },
     "execution_count": 125,
     "metadata": {},
     "output_type": "execute_result"
    }
   ],
   "source": [
    "coef.mean(), coef.max(), coef[coef != 0].min()"
   ]
  },
  {
   "cell_type": "code",
   "execution_count": 63,
   "metadata": {
    "collapsed": true
   },
   "outputs": [],
   "source": [
    "real_dist = np.full(len(test), np.inf)\n",
    "real_neighbor = np.array([])\n",
    "for i in range(len(test)):\n",
    "    real_neighbor = np.append(real_neighbor, \"str\")"
   ]
  },
  {
   "cell_type": "code",
   "execution_count": 64,
   "metadata": {
    "collapsed": false
   },
   "outputs": [
    {
     "name": "stdout",
     "output_type": "stream",
     "text": [
      "2016-08-08 13:22:45\n",
      "2016-08-08 13:25:21\n"
     ]
    }
   ],
   "source": [
    "print(strftime(\"%Y-%m-%d %H:%M:%S\", gmtime())) # don't forget to add 3 hours\n",
    "\n",
    "for i in range(len(test)):\n",
    "    for k in range(len(train)):\n",
    "        d = distance(train_im[k], test_im[i])\n",
    "        if d < real_dist[i]:\n",
    "            real_dist[i] = d\n",
    "            real_neighbor[i] = train[k]\n",
    "                    \n",
    "print(strftime(\"%Y-%m-%d %H:%M:%S\", gmtime())) # don't forget to add 3 hours"
   ]
  },
  {
   "cell_type": "code",
   "execution_count": 80,
   "metadata": {
    "collapsed": false
   },
   "outputs": [],
   "source": [
    "rim1 = []\n",
    "\n",
    "with np.load(\"input/frames.npz\", mmap_mode='r') as data:\n",
    "    for i in range(len(test)):\n",
    "        rim = data[test[i] + '_mask']\n",
    "        rim[rim == 255] = 1  \n",
    "        assert rim.max() == 1\n",
    "        assert rim[rim != 1].max() == 0\n",
    "        rim1.append(rim)\n",
    "        \n",
    "rim2 = []\n",
    "        \n",
    "with np.load(\"input/cluster_data.npz\", mmap_mode='r') as data:\n",
    "    for i in range(len(test)):  \n",
    "        rim = data[real_neighbor[i] + '_mask1']\n",
    "        assert rim.max() == 1\n",
    "        assert rim[rim != 1].max() == 0\n",
    "        rim2.append(rim)"
   ]
  },
  {
   "cell_type": "code",
   "execution_count": 81,
   "metadata": {
    "collapsed": true
   },
   "outputs": [],
   "source": [
    "real_coef = np.full(len(test), np.inf)\n",
    "\n",
    "for i in range(len(test)): \n",
    "    real_coef[i] = dice_coefficient(rim1[i], rim2[i])"
   ]
  },
  {
   "cell_type": "code",
   "execution_count": 82,
   "metadata": {
    "collapsed": false
   },
   "outputs": [
    {
     "data": {
      "text/plain": [
       "(1.0, 0.36723801703787334, 0.82141959965084199)"
      ]
     },
     "execution_count": 82,
     "metadata": {},
     "output_type": "execute_result"
    }
   ],
   "source": [
    "real_coef.max(), real_coef.min(), real_coef.mean()"
   ]
  },
  {
   "cell_type": "code",
   "execution_count": 95,
   "metadata": {
    "collapsed": false
   },
   "outputs": [],
   "source": [
    "diff = real_dist - dist"
   ]
  },
  {
   "cell_type": "code",
   "execution_count": 97,
   "metadata": {
    "collapsed": false
   },
   "outputs": [
    {
     "data": {
      "text/plain": [
       "15077.673718514337"
      ]
     },
     "execution_count": 97,
     "metadata": {},
     "output_type": "execute_result"
    }
   ],
   "source": [
    "dist.max()"
   ]
  },
  {
   "cell_type": "code",
   "execution_count": 98,
   "metadata": {
    "collapsed": false
   },
   "outputs": [
    {
     "data": {
      "text/plain": [
       "15205.0358709752"
      ]
     },
     "execution_count": 98,
     "metadata": {},
     "output_type": "execute_result"
    }
   ],
   "source": [
    "real_dist.max()"
   ]
  },
  {
   "cell_type": "code",
   "execution_count": null,
   "metadata": {
    "collapsed": true
   },
   "outputs": [],
   "source": []
  }
 ],
 "metadata": {
  "kernelspec": {
   "display_name": "Python 3",
   "language": "python",
   "name": "python3"
  },
  "language_info": {
   "codemirror_mode": {
    "name": "ipython",
    "version": 3
   },
   "file_extension": ".py",
   "mimetype": "text/x-python",
   "name": "python",
   "nbconvert_exporter": "python",
   "pygments_lexer": "ipython3",
   "version": "3.5.1"
  }
 },
 "nbformat": 4,
 "nbformat_minor": 0
}
